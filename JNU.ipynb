{
 "cells": [
  {
   "cell_type": "code",
   "execution_count": null,
   "id": "9d5809b2",
   "metadata": {},
   "outputs": [],
   "source": [
    "import sys,os\n",
    "sys.path.append('..')"
   ]
  },
  {
   "cell_type": "code",
   "execution_count": null,
   "id": "965ea20a",
   "metadata": {},
   "outputs": [],
   "source": [
    "from src.main_JNU import evaluate_split, get_model, main_split"
   ]
  },
  {
   "cell_type": "code",
   "execution_count": null,
   "id": "91ed5cbe",
   "metadata": {},
   "outputs": [],
   "source": [
    "import pandas as pd\n",
    "import numpy as np\n",
    "import random\n",
    "import torch\n",
    "\n",
    "def set_random_seed(seed=42):\n",
    "    random.seed(seed)\n",
    "    np.random.seed(seed)\n",
    "    torch.manual_seed(seed)\n",
    "    torch.cuda.manual_seed_all(seed)\n",
    "    torch.backends.cudnn.deterministic = True\n",
    "    torch.backends.cudnn.benchmark = False\n",
    "\n",
    "def load_and_segment(filepath, label, segment_length=1500):\n",
    "    df = pd.read_csv(filepath, header=None)\n",
    "    data = df.values.flatten()\n",
    "    total_segments = len(data) // segment_length\n",
    "    data = data[:total_segments * segment_length]\n",
    "    segments = data.reshape(total_segments, segment_length)\n",
    "    labels = np.full((total_segments,), label)\n",
    "    return segments, labels\n",
    "\n",
    "X_n, y_n = load_and_segment(\"n_800_3_2.csv\", 0)\n",
    "X_ib, y_ib = load_and_segment(\"ib800_2.csv\", 1)\n",
    "X_ob, y_ob = load_and_segment(\"ob800_2.csv\", 2)\n",
    "X_tb, y_tb = load_and_segment(\"tb800_2.csv\", 3)\n",
    "\n",
    "X_raw = np.vstack([X_n, X_ib, X_ob, X_tb])\n",
    "y_raw = np.hstack([y_n, y_ib, y_ob, y_tb])\n",
    "\n",
    "shuffle_idx = np.random.permutation(len(y_raw))\n",
    "X_raw = X_raw[shuffle_idx]\n",
    "y_raw = y_raw[shuffle_idx]\n",
    "\n",
    "X_all_combined = X_raw[:, np.newaxis, :]\n",
    "y_all_combined = y_raw\n",
    "\n",
    "print(\"X_all_combined shape:\", X_all_combined.shape)\n",
    "print(\"y_all_combined shape:\", y_all_combined.shape)\n",
    "print(\"label:\", np.bincount(y_all_combined))"
   ]
  },
  {
   "cell_type": "code",
   "execution_count": null,
   "id": "95e448b9",
   "metadata": {},
   "outputs": [],
   "source": [
    "main_split(X_all_combined, y_all_combined, model_type=\"ptfm\", seed=42)"
   ]
  },
  {
   "cell_type": "code",
   "execution_count": null,
   "id": "15caeac6",
   "metadata": {},
   "outputs": [],
   "source": [
    "main_split(X_all_combined, y_all_combined, model_type=\"fft_mlp\", seed=42)"
   ]
  },
  {
   "cell_type": "code",
   "execution_count": null,
   "id": "492de72f",
   "metadata": {},
   "outputs": [],
   "source": [
    "main_split(X_all_combined, y_all_combined, model_type=\"cnn\", seed=42)"
   ]
  },
  {
   "cell_type": "code",
   "execution_count": null,
   "id": "8b6e6175",
   "metadata": {},
   "outputs": [],
   "source": [
    "main_split(X_all_combined, y_all_combined, model_type=\"vit_tiny\", seed=42)"
   ]
  },
  {
   "cell_type": "code",
   "execution_count": null,
   "id": "cd5175fa",
   "metadata": {},
   "outputs": [],
   "source": [
    "main_split(X_all_combined, y_all_combined, model_type=\"deepbdc\", seed=42)"
   ]
  }
 ],
 "metadata": {
  "kernelspec": {
   "display_name": "newpytorch",
   "language": "python",
   "name": "python3"
  },
  "language_info": {
   "codemirror_mode": {
    "name": "ipython",
    "version": 3
   },
   "file_extension": ".py",
   "mimetype": "text/x-python",
   "name": "python",
   "nbconvert_exporter": "python",
   "pygments_lexer": "ipython3",
   "version": "3.8.20"
  }
 },
 "nbformat": 4,
 "nbformat_minor": 5
}
