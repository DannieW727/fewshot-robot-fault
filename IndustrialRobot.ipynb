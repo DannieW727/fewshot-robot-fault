{
 "cells": [
  {
   "cell_type": "code",
   "execution_count": null,
   "id": "e5d64983",
   "metadata": {},
   "outputs": [],
   "source": [
    "import sys,os\n",
    "sys.path.append('..')"
   ]
  },
  {
   "cell_type": "code",
   "execution_count": null,
   "id": "965ea20a",
   "metadata": {},
   "outputs": [],
   "source": [
    "from src.main import evaluate_split, get_model, main_split"
   ]
  },
  {
   "cell_type": "code",
   "execution_count": null,
   "id": "91ed5cbe",
   "metadata": {},
   "outputs": [],
   "source": [
    "import pandas as pd\n",
    "import numpy as np\n",
    "import random\n",
    "import torch\n",
    "\n",
    "def set_random_seed(seed=42):\n",
    "    random.seed(seed)\n",
    "    np.random.seed(seed)\n",
    "    torch.manual_seed(seed)\n",
    "    torch.cuda.manual_seed_all(seed)\n",
    "    torch.backends.cudnn.deterministic = True\n",
    "    torch.backends.cudnn.benchmark = False\n",
    "\n",
    "X_df = pd.read_csv(\"X_all_combined.csv\")\n",
    "y_df = pd.read_csv(\"y_all_combined.csv\")\n",
    "\n",
    "X_all_combined = X_df.values.reshape(-1, 1, 1250).astype(np.float32)\n",
    "y_all_combined = y_df[\"label\"].values.astype(np.int64)\n",
    "\n",
    "print(\"X shape:\", X_all_combined.shape)\n",
    "print(\"y shape:\", y_all_combined.shape)"
   ]
  },
  {
   "cell_type": "code",
   "execution_count": null,
   "id": "95e448b9",
   "metadata": {},
   "outputs": [],
   "source": [
    "main_split(X_all_combined, y_all_combined, model_type=\"ptfm\", seed=42)"
   ]
  },
  {
   "cell_type": "code",
   "execution_count": null,
   "id": "e7837bee",
   "metadata": {},
   "outputs": [],
   "source": [
    "main_split(X_all_combined, y_all_combined, model_type=\"ptfm_a1\", seed=42)"
   ]
  },
  {
   "cell_type": "code",
   "execution_count": null,
   "id": "e3f489ee",
   "metadata": {},
   "outputs": [],
   "source": [
    "main_split(X_all_combined, y_all_combined, model_type=\"ptfm_a2\", seed=42)\n"
   ]
  },
  {
   "cell_type": "code",
   "execution_count": null,
   "id": "72743706",
   "metadata": {},
   "outputs": [],
   "source": [
    "main_split(X_all_combined, y_all_combined, model_type=\"ptfm_a3\", seed=42)"
   ]
  },
  {
   "cell_type": "code",
   "execution_count": null,
   "id": "15caeac6",
   "metadata": {},
   "outputs": [],
   "source": [
    "main_split(X_all_combined, y_all_combined, model_type=\"fft_mlp\", seed=42)"
   ]
  },
  {
   "cell_type": "code",
   "execution_count": null,
   "id": "492de72f",
   "metadata": {},
   "outputs": [],
   "source": [
    "main_split(X_all_combined, y_all_combined, model_type=\"cnn\", seed=42)"
   ]
  },
  {
   "cell_type": "code",
   "execution_count": null,
   "id": "8b6e6175",
   "metadata": {},
   "outputs": [],
   "source": [
    "main_split(X_all_combined, y_all_combined, model_type=\"vit_tiny\", seed=42)"
   ]
  },
  {
   "cell_type": "code",
   "execution_count": null,
   "id": "cd5175fa",
   "metadata": {},
   "outputs": [],
   "source": [
    "main_split(X_all_combined, y_all_combined, model_type=\"deepbdc\", seed=42)"
   ]
  },
  {
   "cell_type": "code",
   "execution_count": null,
   "id": "bfe9b809",
   "metadata": {},
   "outputs": [],
   "source": [
    "import numpy as np\n",
    "\n",
    "def add_gaussian_noise(X, snr_db):\n",
    "    # X: numpy array (N, 1, 1250)\n",
    "    signal_power = np.mean(X ** 2, axis=(1, 2), keepdims=True)\n",
    "    snr = 10 ** (snr_db / 10)\n",
    "    noise_power = signal_power / snr\n",
    "    noise = np.random.randn(*X.shape) * np.sqrt(noise_power)\n",
    "    return X + noise\n",
    "X_noisy_10 = add_gaussian_noise(X_all_combined.copy(), snr_db=10)\n",
    "main_split(X_noisy_10, y_all_combined, model_type=\"ptfm\", seed=42)\n"
   ]
  },
  {
   "cell_type": "code",
   "execution_count": null,
   "id": "d33009f9",
   "metadata": {},
   "outputs": [],
   "source": [
    "import numpy as np\n",
    "\n",
    "def add_gaussian_noise(X, snr_db):\n",
    "    # X: numpy array (N, 1, 1250)\n",
    "    signal_power = np.mean(X ** 2, axis=(1, 2), keepdims=True)\n",
    "    snr = 10 ** (snr_db / 10)\n",
    "    noise_power = signal_power / snr\n",
    "    noise = np.random.randn(*X.shape) * np.sqrt(noise_power)\n",
    "    return X + noise\n",
    "X_noisy_10 = add_gaussian_noise(X_all_combined.copy(), snr_db=0)\n",
    "main_split(X_noisy_10, y_all_combined, model_type=\"ptfm\", seed=42)"
   ]
  },
  {
   "cell_type": "code",
   "execution_count": null,
   "id": "e13fe5f3",
   "metadata": {},
   "outputs": [],
   "source": []
  }
 ],
 "metadata": {
  "kernelspec": {
   "display_name": "newpytorch",
   "language": "python",
   "name": "python3"
  },
  "language_info": {
   "codemirror_mode": {
    "name": "ipython",
    "version": 3
   },
   "file_extension": ".py",
   "mimetype": "text/x-python",
   "name": "python",
   "nbconvert_exporter": "python",
   "pygments_lexer": "ipython3",
   "version": "3.8.20"
  }
 },
 "nbformat": 4,
 "nbformat_minor": 5
}
