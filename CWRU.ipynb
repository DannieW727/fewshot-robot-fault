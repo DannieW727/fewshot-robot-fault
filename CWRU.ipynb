{
 "cells": [
  {
   "cell_type": "code",
   "execution_count": null,
   "id": "9d5809b2",
   "metadata": {},
   "outputs": [],
   "source": [
    "import sys,os\n",
    "sys.path.append('..')"
   ]
  },
  {
   "cell_type": "code",
   "execution_count": null,
   "id": "965ea20a",
   "metadata": {},
   "outputs": [],
   "source": [
    "from src.main_CWRU import evaluate_split, get_model, main_split"
   ]
  },
  {
   "cell_type": "code",
   "execution_count": null,
   "id": "91ed5cbe",
   "metadata": {},
   "outputs": [],
   "source": [
    "import pandas as pd\n",
    "import numpy as np\n",
    "import random\n",
    "import torch\n",
    "\n",
    "def set_random_seed(seed=42):\n",
    "    random.seed(seed)\n",
    "    np.random.seed(seed)\n",
    "    torch.manual_seed(seed)\n",
    "    torch.cuda.manual_seed_all(seed)\n",
    "    torch.backends.cudnn.deterministic = True\n",
    "    torch.backends.cudnn.benchmark = False\n",
    "\n",
    "import scipy.io as sio\n",
    "import pickle\n",
    "import os\n",
    "\n",
    "mat_files = {\n",
    "    \"Normal_0.mat\": 0,\n",
    "    \"IR014_0.mat\": 1,\n",
    "    \"OR014@6_0.mat\": 2,\n",
    "    \"B014_0.mat\": 3\n",
    "}\n",
    "\n",
    "mat_keys = {\n",
    "    \"Normal_0.mat\": \"X097_DE_time\",\n",
    "    \"IR014_0.mat\": \"X169_DE_time\",\n",
    "    \"OR014@6_0.mat\": \"X197_DE_time\",\n",
    "    \"B014_0.mat\": \"X185_DE_time\"\n",
    "}\n",
    "\n",
    "def extract_and_segment_mat(file_path, key, label, segment_length=1500):\n",
    "    mat = sio.loadmat(file_path)\n",
    "    signal = mat[key].squeeze()\n",
    "    total_segments = len(signal) // segment_length\n",
    "    signal = signal[:total_segments * segment_length]\n",
    "    segments = signal.reshape(total_segments, segment_length)\n",
    "    labels = np.full((total_segments,), label)\n",
    "    return segments, labels\n",
    "\n",
    "X_list = []\n",
    "y_list = []\n",
    "\n",
    "for file, label in mat_files.items():\n",
    "    segments, labels = extract_and_segment_mat(file, mat_keys[file], label)\n",
    "    X_list.append(segments)\n",
    "    y_list.append(labels)\n",
    "\n",
    "X_raw = np.vstack(X_list)\n",
    "y_raw = np.hstack(y_list)\n",
    "shuffle_idx = np.random.permutation(len(y_raw))\n",
    "X_raw = X_raw[shuffle_idx]\n",
    "y_raw = y_raw[shuffle_idx]\n",
    "\n",
    "X_all_combined = X_raw[:, np.newaxis, :]\n",
    "y_all_combined = y_raw\n",
    "\n",
    "save_path = \"cwru_dataset_combined.pkl\"\n",
    "with open(save_path, \"wb\") as f:\n",
    "    pickle.dump({\n",
    "        \"X_all_combined\": X_all_combined,\n",
    "        \"y_all_combined\": y_all_combined\n",
    "    }, f)\n",
    "\n",
    "print(f\"saved: {os.path.abspath(save_path)}\")\n",
    "print(f\"X_all_combined shape: {X_all_combined.shape}\")\n",
    "print(f\"y_all_combined shape: {y_all_combined.shape}\")\n",
    "print(\"label:\", np.bincount(y_all_combined))"
   ]
  },
  {
   "cell_type": "code",
   "execution_count": null,
   "id": "95e448b9",
   "metadata": {},
   "outputs": [],
   "source": [
    "main_split(X_all_combined, y_all_combined, model_type=\"ptfm\", seed=42)"
   ]
  },
  {
   "cell_type": "code",
   "execution_count": null,
   "id": "15caeac6",
   "metadata": {},
   "outputs": [],
   "source": [
    "main_split(X_all_combined, y_all_combined, model_type=\"fft_mlp\", seed=42)"
   ]
  },
  {
   "cell_type": "code",
   "execution_count": null,
   "id": "492de72f",
   "metadata": {},
   "outputs": [],
   "source": [
    "main_split(X_all_combined, y_all_combined, model_type=\"cnn\", seed=42)"
   ]
  },
  {
   "cell_type": "code",
   "execution_count": null,
   "id": "8b6e6175",
   "metadata": {},
   "outputs": [],
   "source": [
    "main_split(X_all_combined, y_all_combined, model_type=\"vit_tiny\", seed=42)"
   ]
  },
  {
   "cell_type": "code",
   "execution_count": null,
   "id": "cd5175fa",
   "metadata": {},
   "outputs": [],
   "source": [
    "main_split(X_all_combined, y_all_combined, model_type=\"deepbdc\", seed=42)"
   ]
  }
 ],
 "metadata": {
  "kernelspec": {
   "display_name": "newpytorch",
   "language": "python",
   "name": "python3"
  },
  "language_info": {
   "codemirror_mode": {
    "name": "ipython",
    "version": 3
   },
   "file_extension": ".py",
   "mimetype": "text/x-python",
   "name": "python",
   "nbconvert_exporter": "python",
   "pygments_lexer": "ipython3",
   "version": "3.8.20"
  }
 },
 "nbformat": 4,
 "nbformat_minor": 5
}
